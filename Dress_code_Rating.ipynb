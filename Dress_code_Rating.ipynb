{
 "cells": [
  {
   "cell_type": "markdown",
   "metadata": {},
   "source": [
    "# DRESS RATING PREDICTION"
   ]
  },
  {
   "cell_type": "markdown",
   "metadata": {},
   "source": [
    "## READING DATA"
   ]
  },
  {
   "cell_type": "code",
   "execution_count": 77,
   "metadata": {},
   "outputs": [],
   "source": [
    "import pandas as pd\n",
    "import numpy as np\n",
    "import matplotlib.pyplot as plt"
   ]
  },
  {
   "cell_type": "code",
   "execution_count": 76,
   "metadata": {},
   "outputs": [],
   "source": [
    "%matplotlib inline"
   ]
  },
  {
   "cell_type": "code",
   "execution_count": 73,
   "metadata": {},
   "outputs": [],
   "source": [
    "reviews = pd.read_csv('reviews.csv')"
   ]
  },
  {
   "cell_type": "code",
   "execution_count": 74,
   "metadata": {},
   "outputs": [
    {
     "data": {
      "text/html": [
       "<div>\n",
       "<style scoped>\n",
       "    .dataframe tbody tr th:only-of-type {\n",
       "        vertical-align: middle;\n",
       "    }\n",
       "\n",
       "    .dataframe tbody tr th {\n",
       "        vertical-align: top;\n",
       "    }\n",
       "\n",
       "    .dataframe thead th {\n",
       "        text-align: right;\n",
       "    }\n",
       "</style>\n",
       "<table border=\"1\" class=\"dataframe\">\n",
       "  <thead>\n",
       "    <tr style=\"text-align: right;\">\n",
       "      <th></th>\n",
       "      <th>age</th>\n",
       "      <th>body type</th>\n",
       "      <th>bust size</th>\n",
       "      <th>category</th>\n",
       "      <th>fit</th>\n",
       "      <th>height</th>\n",
       "      <th>item_id</th>\n",
       "      <th>rating</th>\n",
       "      <th>rented for</th>\n",
       "      <th>review_date</th>\n",
       "      <th>review_summary</th>\n",
       "      <th>review_text</th>\n",
       "      <th>size</th>\n",
       "      <th>user_id</th>\n",
       "      <th>weight</th>\n",
       "    </tr>\n",
       "  </thead>\n",
       "  <tbody>\n",
       "    <tr>\n",
       "      <th>0</th>\n",
       "      <td>36.0</td>\n",
       "      <td>athletic</td>\n",
       "      <td>32ddd/e</td>\n",
       "      <td>sweater</td>\n",
       "      <td>fit</td>\n",
       "      <td>5' 6\"</td>\n",
       "      <td>2340200</td>\n",
       "      <td>10.0</td>\n",
       "      <td>everyday</td>\n",
       "      <td>April 10, 2016</td>\n",
       "      <td>b'Want to buy it'</td>\n",
       "      <td>b'Perfect for everyday!'</td>\n",
       "      <td>8</td>\n",
       "      <td>427200</td>\n",
       "      <td>140lbs</td>\n",
       "    </tr>\n",
       "    <tr>\n",
       "      <th>1</th>\n",
       "      <td>37.0</td>\n",
       "      <td>full bust</td>\n",
       "      <td>36d</td>\n",
       "      <td>gown</td>\n",
       "      <td>large</td>\n",
       "      <td>5' 6\"</td>\n",
       "      <td>139086</td>\n",
       "      <td>10.0</td>\n",
       "      <td>wedding</td>\n",
       "      <td>September 23, 2013</td>\n",
       "      <td>b'Makes a statement...tons of compliments all ...</td>\n",
       "      <td>b'This dress was a last minute emergency repla...</td>\n",
       "      <td>20</td>\n",
       "      <td>162760</td>\n",
       "      <td>128lbs</td>\n",
       "    </tr>\n",
       "    <tr>\n",
       "      <th>2</th>\n",
       "      <td>33.0</td>\n",
       "      <td>athletic</td>\n",
       "      <td>34b</td>\n",
       "      <td>gown</td>\n",
       "      <td>fit</td>\n",
       "      <td>5' 5\"</td>\n",
       "      <td>162634</td>\n",
       "      <td>8.0</td>\n",
       "      <td>wedding</td>\n",
       "      <td>July 17, 2014</td>\n",
       "      <td>b'Perfect for Black Tie optional Wedding!!'</td>\n",
       "      <td>b\"The dress was a very bright blue color in pe...</td>\n",
       "      <td>12</td>\n",
       "      <td>714701</td>\n",
       "      <td>132lbs</td>\n",
       "    </tr>\n",
       "    <tr>\n",
       "      <th>3</th>\n",
       "      <td>30.0</td>\n",
       "      <td>athletic</td>\n",
       "      <td>38b</td>\n",
       "      <td>dress</td>\n",
       "      <td>fit</td>\n",
       "      <td>5' 2\"</td>\n",
       "      <td>174086</td>\n",
       "      <td>10.0</td>\n",
       "      <td>wedding</td>\n",
       "      <td>March 28, 2017</td>\n",
       "      <td>b'I loved the fit and pockets! '</td>\n",
       "      <td>b'I loved the fit of this dress. I wore it thr...</td>\n",
       "      <td>28</td>\n",
       "      <td>97194</td>\n",
       "      <td>NaN</td>\n",
       "    </tr>\n",
       "    <tr>\n",
       "      <th>4</th>\n",
       "      <td>31.0</td>\n",
       "      <td>full bust</td>\n",
       "      <td>34c</td>\n",
       "      <td>dress</td>\n",
       "      <td>fit</td>\n",
       "      <td>5' 3\"</td>\n",
       "      <td>916397</td>\n",
       "      <td>10.0</td>\n",
       "      <td>work</td>\n",
       "      <td>November 18, 2015</td>\n",
       "      <td>b'really great dress!'</td>\n",
       "      <td>b\"i wore this for work meetings and it was per...</td>\n",
       "      <td>12</td>\n",
       "      <td>691468</td>\n",
       "      <td>125lbs</td>\n",
       "    </tr>\n",
       "  </tbody>\n",
       "</table>\n",
       "</div>"
      ],
      "text/plain": [
       "    age  body type bust size category    fit height  item_id  rating  \\\n",
       "0  36.0   athletic   32ddd/e  sweater    fit  5' 6\"  2340200    10.0   \n",
       "1  37.0  full bust       36d     gown  large  5' 6\"   139086    10.0   \n",
       "2  33.0   athletic       34b     gown    fit  5' 5\"   162634     8.0   \n",
       "3  30.0   athletic       38b    dress    fit  5' 2\"   174086    10.0   \n",
       "4  31.0  full bust       34c    dress    fit  5' 3\"   916397    10.0   \n",
       "\n",
       "  rented for         review_date  \\\n",
       "0   everyday      April 10, 2016   \n",
       "1    wedding  September 23, 2013   \n",
       "2    wedding       July 17, 2014   \n",
       "3    wedding      March 28, 2017   \n",
       "4       work   November 18, 2015   \n",
       "\n",
       "                                      review_summary  \\\n",
       "0                                  b'Want to buy it'   \n",
       "1  b'Makes a statement...tons of compliments all ...   \n",
       "2        b'Perfect for Black Tie optional Wedding!!'   \n",
       "3                   b'I loved the fit and pockets! '   \n",
       "4                             b'really great dress!'   \n",
       "\n",
       "                                         review_text  size  user_id  weight  \n",
       "0                           b'Perfect for everyday!'     8   427200  140lbs  \n",
       "1  b'This dress was a last minute emergency repla...    20   162760  128lbs  \n",
       "2  b\"The dress was a very bright blue color in pe...    12   714701  132lbs  \n",
       "3  b'I loved the fit of this dress. I wore it thr...    28    97194     NaN  \n",
       "4  b\"i wore this for work meetings and it was per...    12   691468  125lbs  "
      ]
     },
     "execution_count": 74,
     "metadata": {},
     "output_type": "execute_result"
    }
   ],
   "source": [
    "reviews.head()"
   ]
  },
  {
   "cell_type": "code",
   "execution_count": 78,
   "metadata": {},
   "outputs": [],
   "source": [
    "plt.rcdefaults()\n",
    "fig, ax = plt.subplots()"
   ]
  },
  {
   "cell_type": "code",
   "execution_count": 95,
   "metadata": {},
   "outputs": [],
   "source": [
    "category = pd.DataFrame(data = reviews, columns= ['category', 'rating'])"
   ]
  },
  {
   "cell_type": "code",
   "execution_count": 96,
   "metadata": {},
   "outputs": [
    {
     "data": {
      "text/html": [
       "<div>\n",
       "<style scoped>\n",
       "    .dataframe tbody tr th:only-of-type {\n",
       "        vertical-align: middle;\n",
       "    }\n",
       "\n",
       "    .dataframe tbody tr th {\n",
       "        vertical-align: top;\n",
       "    }\n",
       "\n",
       "    .dataframe thead th {\n",
       "        text-align: right;\n",
       "    }\n",
       "</style>\n",
       "<table border=\"1\" class=\"dataframe\">\n",
       "  <thead>\n",
       "    <tr style=\"text-align: right;\">\n",
       "      <th></th>\n",
       "      <th>category</th>\n",
       "      <th>rating</th>\n",
       "    </tr>\n",
       "  </thead>\n",
       "  <tbody>\n",
       "    <tr>\n",
       "      <th>0</th>\n",
       "      <td>sweater</td>\n",
       "      <td>10.0</td>\n",
       "    </tr>\n",
       "    <tr>\n",
       "      <th>1</th>\n",
       "      <td>gown</td>\n",
       "      <td>10.0</td>\n",
       "    </tr>\n",
       "    <tr>\n",
       "      <th>2</th>\n",
       "      <td>gown</td>\n",
       "      <td>8.0</td>\n",
       "    </tr>\n",
       "    <tr>\n",
       "      <th>3</th>\n",
       "      <td>dress</td>\n",
       "      <td>10.0</td>\n",
       "    </tr>\n",
       "    <tr>\n",
       "      <th>4</th>\n",
       "      <td>dress</td>\n",
       "      <td>10.0</td>\n",
       "    </tr>\n",
       "  </tbody>\n",
       "</table>\n",
       "</div>"
      ],
      "text/plain": [
       "  category  rating\n",
       "0  sweater    10.0\n",
       "1     gown    10.0\n",
       "2     gown     8.0\n",
       "3    dress    10.0\n",
       "4    dress    10.0"
      ]
     },
     "execution_count": 96,
     "metadata": {},
     "output_type": "execute_result"
    }
   ],
   "source": [
    "category.head()"
   ]
  },
  {
   "cell_type": "code",
   "execution_count": 100,
   "metadata": {},
   "outputs": [],
   "source": [
    "cat = category.groupby(by = 'category')"
   ]
  },
  {
   "cell_type": "code",
   "execution_count": 104,
   "metadata": {},
   "outputs": [],
   "source": [
    "cat = cat.agg(np.mean)"
   ]
  },
  {
   "cell_type": "code",
   "execution_count": 108,
   "metadata": {},
   "outputs": [],
   "source": [
    "cat = cat.sort_values('rating')"
   ]
  },
  {
   "cell_type": "code",
   "execution_count": 124,
   "metadata": {},
   "outputs": [
    {
     "data": {
      "text/html": [
       "<div>\n",
       "<style scoped>\n",
       "    .dataframe tbody tr th:only-of-type {\n",
       "        vertical-align: middle;\n",
       "    }\n",
       "\n",
       "    .dataframe tbody tr th {\n",
       "        vertical-align: top;\n",
       "    }\n",
       "\n",
       "    .dataframe thead th {\n",
       "        text-align: right;\n",
       "    }\n",
       "</style>\n",
       "<table border=\"1\" class=\"dataframe\">\n",
       "  <thead>\n",
       "    <tr style=\"text-align: right;\">\n",
       "      <th></th>\n",
       "      <th>rating</th>\n",
       "    </tr>\n",
       "    <tr>\n",
       "      <th>category</th>\n",
       "      <th></th>\n",
       "    </tr>\n",
       "  </thead>\n",
       "  <tbody>\n",
       "    <tr>\n",
       "      <th>kaftan</th>\n",
       "      <td>5.750000</td>\n",
       "    </tr>\n",
       "    <tr>\n",
       "      <th>trench</th>\n",
       "      <td>7.200000</td>\n",
       "    </tr>\n",
       "    <tr>\n",
       "      <th>henley</th>\n",
       "      <td>8.000000</td>\n",
       "    </tr>\n",
       "    <tr>\n",
       "      <th>buttondown</th>\n",
       "      <td>8.000000</td>\n",
       "    </tr>\n",
       "    <tr>\n",
       "      <th>kimono</th>\n",
       "      <td>8.222222</td>\n",
       "    </tr>\n",
       "  </tbody>\n",
       "</table>\n",
       "</div>"
      ],
      "text/plain": [
       "              rating\n",
       "category            \n",
       "kaftan      5.750000\n",
       "trench      7.200000\n",
       "henley      8.000000\n",
       "buttondown  8.000000\n",
       "kimono      8.222222"
      ]
     },
     "execution_count": 124,
     "metadata": {},
     "output_type": "execute_result"
    }
   ],
   "source": [
    "cat.head()"
   ]
  },
  {
   "cell_type": "code",
   "execution_count": 121,
   "metadata": {},
   "outputs": [],
   "source": [
    "Least_cat = cat[0:10]"
   ]
  },
  {
   "cell_type": "code",
   "execution_count": 128,
   "metadata": {},
   "outputs": [
    {
     "data": {
      "image/png": "[encoded data removed]",
      "text/plain": [
       "<Figure size 900x300 with 1 Axes>"
      ]
     },
     "metadata": {},
     "output_type": "display_data"
    }
   ],
   "source": [
    "plt.figure(figsize=(9, 3))\n",
    "plt.barh(Least_cat.index, Least_cat.rating)\n",
    "plt.title('Category with Lowest average ratings')\n",
    "plt.show()"
   ]
  },
  {
   "cell_type": "markdown",
   "metadata": {},
   "source": [
    "#### As per analysis kaftan,trench,henley are the worst performer according to ratings"
   ]
  },
  {
   "cell_type": "code",
   "execution_count": 125,
   "metadata": {},
   "outputs": [],
   "source": [
    "Most_cat = cat[-10:]"
   ]
  },
  {
   "cell_type": "code",
   "execution_count": 127,
   "metadata": {},
   "outputs": [
    {
     "data": {
      "image/png": "[encoded data removed]",
      "text/plain": [
       "<Figure size 900x300 with 1 Axes>"
      ]
     },
     "metadata": {},
     "output_type": "display_data"
    }
   ],
   "source": [
    "plt.figure(figsize=(9, 3))\n",
    "plt.barh(Most_cat.index, Most_cat.rating)\n",
    "plt.title('Category with Top average ratings')\n",
    "plt.show()"
   ]
  },
  {
   "cell_type": "code",
   "execution_count": 169,
   "metadata": {},
   "outputs": [],
   "source": [
    "#### As per analysis kaftan,trench,henley are the top performer according to ratings"
   ]
  },
  {
   "cell_type": "code",
   "execution_count": 157,
   "metadata": {},
   "outputs": [],
   "source": [
    "rented = pd.DataFrame(data = reviews, columns= ['rented for', 'rating'])"
   ]
  },
  {
   "cell_type": "code",
   "execution_count": 158,
   "metadata": {},
   "outputs": [],
   "source": [
    "rented = rented.groupby(by = 'rented for')"
   ]
  },
  {
   "cell_type": "code",
   "execution_count": 159,
   "metadata": {},
   "outputs": [],
   "source": [
    "rented = rented.agg(np.mean)"
   ]
  },
  {
   "cell_type": "code",
   "execution_count": 160,
   "metadata": {},
   "outputs": [],
   "source": [
    "rented = rented.sort_values('rating')"
   ]
  },
  {
   "cell_type": "code",
   "execution_count": 161,
   "metadata": {},
   "outputs": [
    {
     "data": {
      "text/html": [
       "<div>\n",
       "<style scoped>\n",
       "    .dataframe tbody tr th:only-of-type {\n",
       "        vertical-align: middle;\n",
       "    }\n",
       "\n",
       "    .dataframe tbody tr th {\n",
       "        vertical-align: top;\n",
       "    }\n",
       "\n",
       "    .dataframe thead th {\n",
       "        text-align: right;\n",
       "    }\n",
       "</style>\n",
       "<table border=\"1\" class=\"dataframe\">\n",
       "  <thead>\n",
       "    <tr style=\"text-align: right;\">\n",
       "      <th></th>\n",
       "      <th>rating</th>\n",
       "    </tr>\n",
       "    <tr>\n",
       "      <th>rented for</th>\n",
       "      <th></th>\n",
       "    </tr>\n",
       "  </thead>\n",
       "  <tbody>\n",
       "    <tr>\n",
       "      <th>work</th>\n",
       "      <td>8.814103</td>\n",
       "    </tr>\n",
       "    <tr>\n",
       "      <th>everyday</th>\n",
       "      <td>8.836303</td>\n",
       "    </tr>\n",
       "    <tr>\n",
       "      <th>date</th>\n",
       "      <td>8.913187</td>\n",
       "    </tr>\n",
       "    <tr>\n",
       "      <th>vacation</th>\n",
       "      <td>8.979472</td>\n",
       "    </tr>\n",
       "    <tr>\n",
       "      <th>party</th>\n",
       "      <td>9.061506</td>\n",
       "    </tr>\n",
       "    <tr>\n",
       "      <th>other</th>\n",
       "      <td>9.113080</td>\n",
       "    </tr>\n",
       "    <tr>\n",
       "      <th>wedding</th>\n",
       "      <td>9.183617</td>\n",
       "    </tr>\n",
       "    <tr>\n",
       "      <th>formal affair</th>\n",
       "      <td>9.197064</td>\n",
       "    </tr>\n",
       "  </tbody>\n",
       "</table>\n",
       "</div>"
      ],
      "text/plain": [
       "                 rating\n",
       "rented for             \n",
       "work           8.814103\n",
       "everyday       8.836303\n",
       "date           8.913187\n",
       "vacation       8.979472\n",
       "party          9.061506\n",
       "other          9.113080\n",
       "wedding        9.183617\n",
       "formal affair  9.197064"
      ]
     },
     "execution_count": 161,
     "metadata": {},
     "output_type": "execute_result"
    }
   ],
   "source": [
    "rented"
   ]
  },
  {
   "cell_type": "code",
   "execution_count": 166,
   "metadata": {},
   "outputs": [
    {
     "data": {
      "image/png": "[encoded data removed]",
      "text/plain": [
       "<Figure size 900x300 with 1 Axes>"
      ]
     },
     "metadata": {},
     "output_type": "display_data"
    }
   ],
   "source": [
    "plt.figure(figsize=(9, 3))\n",
    "plt.barh(rented.index, rented.rating)\n",
    "plt.title('Rent Reason with Top average ratings')\n",
    "plt.show()"
   ]
  },
  {
   "cell_type": "code",
   "execution_count": 163,
   "metadata": {},
   "outputs": [],
   "source": [
    "fit = pd.DataFrame(data = reviews, columns= ['fit', 'rating'])"
   ]
  },
  {
   "cell_type": "code",
   "execution_count": 164,
   "metadata": {},
   "outputs": [],
   "source": [
    "fit = fit.groupby(by = 'fit')\n",
    "fit = fit.agg(np.mean)\n",
    "fit = fit.sort_values('rating')"
   ]
  },
  {
   "cell_type": "code",
   "execution_count": 167,
   "metadata": {},
   "outputs": [
    {
     "data": {
      "image/png": "[encoded data removed]",
      "text/plain": [
       "<Figure size 900x300 with 1 Axes>"
      ]
     },
     "metadata": {},
     "output_type": "display_data"
    }
   ],
   "source": [
    "plt.figure(figsize=(9, 3))\n",
    "plt.barh(fit.index, fit.rating)\n",
    "plt.title('Fit with Top average ratings')\n",
    "plt.show()"
   ]
  },
  {
   "cell_type": "markdown",
   "metadata": {},
   "source": [
    "## DATA CLEANING"
   ]
  },
  {
   "cell_type": "code",
   "execution_count": 4,
   "metadata": {},
   "outputs": [],
   "source": [
    "# removing b' from the review summary\n",
    "reviews['review_summary'] = reviews['review_summary'].str[1:]"
   ]
  },
  {
   "cell_type": "code",
   "execution_count": 5,
   "metadata": {},
   "outputs": [],
   "source": [
    "# removing b' from the review summary\n",
    "reviews['review_text'] = reviews['review_text'].str[1:]"
   ]
  },
  {
   "cell_type": "code",
   "execution_count": 6,
   "metadata": {},
   "outputs": [],
   "source": [
    "# creating column for different values present in body type which only have 0 and 1 which can be used for training\n",
    "body = pd.get_dummies(reviews['body type'])"
   ]
  },
  {
   "cell_type": "code",
   "execution_count": 7,
   "metadata": {},
   "outputs": [
    {
     "data": {
      "text/html": [
       "<div>\n",
       "<style scoped>\n",
       "    .dataframe tbody tr th:only-of-type {\n",
       "        vertical-align: middle;\n",
       "    }\n",
       "\n",
       "    .dataframe tbody tr th {\n",
       "        vertical-align: top;\n",
       "    }\n",
       "\n",
       "    .dataframe thead th {\n",
       "        text-align: right;\n",
       "    }\n",
       "</style>\n",
       "<table border=\"1\" class=\"dataframe\">\n",
       "  <thead>\n",
       "    <tr style=\"text-align: right;\">\n",
       "      <th></th>\n",
       "      <th>apple</th>\n",
       "      <th>athletic</th>\n",
       "      <th>full bust</th>\n",
       "      <th>hourglass</th>\n",
       "      <th>pear</th>\n",
       "      <th>petite</th>\n",
       "      <th>straight &amp; narrow</th>\n",
       "    </tr>\n",
       "  </thead>\n",
       "  <tbody>\n",
       "    <tr>\n",
       "      <th>0</th>\n",
       "      <td>0</td>\n",
       "      <td>1</td>\n",
       "      <td>0</td>\n",
       "      <td>0</td>\n",
       "      <td>0</td>\n",
       "      <td>0</td>\n",
       "      <td>0</td>\n",
       "    </tr>\n",
       "    <tr>\n",
       "      <th>1</th>\n",
       "      <td>0</td>\n",
       "      <td>0</td>\n",
       "      <td>1</td>\n",
       "      <td>0</td>\n",
       "      <td>0</td>\n",
       "      <td>0</td>\n",
       "      <td>0</td>\n",
       "    </tr>\n",
       "    <tr>\n",
       "      <th>2</th>\n",
       "      <td>0</td>\n",
       "      <td>1</td>\n",
       "      <td>0</td>\n",
       "      <td>0</td>\n",
       "      <td>0</td>\n",
       "      <td>0</td>\n",
       "      <td>0</td>\n",
       "    </tr>\n",
       "    <tr>\n",
       "      <th>3</th>\n",
       "      <td>0</td>\n",
       "      <td>1</td>\n",
       "      <td>0</td>\n",
       "      <td>0</td>\n",
       "      <td>0</td>\n",
       "      <td>0</td>\n",
       "      <td>0</td>\n",
       "    </tr>\n",
       "    <tr>\n",
       "      <th>4</th>\n",
       "      <td>0</td>\n",
       "      <td>0</td>\n",
       "      <td>1</td>\n",
       "      <td>0</td>\n",
       "      <td>0</td>\n",
       "      <td>0</td>\n",
       "      <td>0</td>\n",
       "    </tr>\n",
       "  </tbody>\n",
       "</table>\n",
       "</div>"
      ],
      "text/plain": [
       "   apple  athletic  full bust  hourglass  pear  petite  straight & narrow\n",
       "0      0         1          0          0     0       0                  0\n",
       "1      0         0          1          0     0       0                  0\n",
       "2      0         1          0          0     0       0                  0\n",
       "3      0         1          0          0     0       0                  0\n",
       "4      0         0          1          0     0       0                  0"
      ]
     },
     "execution_count": 7,
     "metadata": {},
     "output_type": "execute_result"
    }
   ],
   "source": [
    "body.head()"
   ]
  },
  {
   "cell_type": "code",
   "execution_count": 8,
   "metadata": {},
   "outputs": [],
   "source": [
    "# creating column for different values present in category which only have 0 and 1 which can be used for training\n",
    "category = pd.get_dummies(reviews['category'])"
   ]
  },
  {
   "cell_type": "code",
   "execution_count": 9,
   "metadata": {},
   "outputs": [
    {
     "data": {
      "text/html": [
       "<div>\n",
       "<style scoped>\n",
       "    .dataframe tbody tr th:only-of-type {\n",
       "        vertical-align: middle;\n",
       "    }\n",
       "\n",
       "    .dataframe tbody tr th {\n",
       "        vertical-align: top;\n",
       "    }\n",
       "\n",
       "    .dataframe thead th {\n",
       "        text-align: right;\n",
       "    }\n",
       "</style>\n",
       "<table border=\"1\" class=\"dataframe\">\n",
       "  <thead>\n",
       "    <tr style=\"text-align: right;\">\n",
       "      <th></th>\n",
       "      <th>ballgown</th>\n",
       "      <th>blazer</th>\n",
       "      <th>blouse</th>\n",
       "      <th>blouson</th>\n",
       "      <th>bomber</th>\n",
       "      <th>buttondown</th>\n",
       "      <th>cami</th>\n",
       "      <th>cape</th>\n",
       "      <th>cardigan</th>\n",
       "      <th>coat</th>\n",
       "      <th>...</th>\n",
       "      <th>t-shirt</th>\n",
       "      <th>tank</th>\n",
       "      <th>tee</th>\n",
       "      <th>top</th>\n",
       "      <th>trench</th>\n",
       "      <th>trouser</th>\n",
       "      <th>trousers</th>\n",
       "      <th>tunic</th>\n",
       "      <th>turtleneck</th>\n",
       "      <th>vest</th>\n",
       "    </tr>\n",
       "  </thead>\n",
       "  <tbody>\n",
       "    <tr>\n",
       "      <th>0</th>\n",
       "      <td>0</td>\n",
       "      <td>0</td>\n",
       "      <td>0</td>\n",
       "      <td>0</td>\n",
       "      <td>0</td>\n",
       "      <td>0</td>\n",
       "      <td>0</td>\n",
       "      <td>0</td>\n",
       "      <td>0</td>\n",
       "      <td>0</td>\n",
       "      <td>...</td>\n",
       "      <td>0</td>\n",
       "      <td>0</td>\n",
       "      <td>0</td>\n",
       "      <td>0</td>\n",
       "      <td>0</td>\n",
       "      <td>0</td>\n",
       "      <td>0</td>\n",
       "      <td>0</td>\n",
       "      <td>0</td>\n",
       "      <td>0</td>\n",
       "    </tr>\n",
       "    <tr>\n",
       "      <th>1</th>\n",
       "      <td>0</td>\n",
       "      <td>0</td>\n",
       "      <td>0</td>\n",
       "      <td>0</td>\n",
       "      <td>0</td>\n",
       "      <td>0</td>\n",
       "      <td>0</td>\n",
       "      <td>0</td>\n",
       "      <td>0</td>\n",
       "      <td>0</td>\n",
       "      <td>...</td>\n",
       "      <td>0</td>\n",
       "      <td>0</td>\n",
       "      <td>0</td>\n",
       "      <td>0</td>\n",
       "      <td>0</td>\n",
       "      <td>0</td>\n",
       "      <td>0</td>\n",
       "      <td>0</td>\n",
       "      <td>0</td>\n",
       "      <td>0</td>\n",
       "    </tr>\n",
       "    <tr>\n",
       "      <th>2</th>\n",
       "      <td>0</td>\n",
       "      <td>0</td>\n",
       "      <td>0</td>\n",
       "      <td>0</td>\n",
       "      <td>0</td>\n",
       "      <td>0</td>\n",
       "      <td>0</td>\n",
       "      <td>0</td>\n",
       "      <td>0</td>\n",
       "      <td>0</td>\n",
       "      <td>...</td>\n",
       "      <td>0</td>\n",
       "      <td>0</td>\n",
       "      <td>0</td>\n",
       "      <td>0</td>\n",
       "      <td>0</td>\n",
       "      <td>0</td>\n",
       "      <td>0</td>\n",
       "      <td>0</td>\n",
       "      <td>0</td>\n",
       "      <td>0</td>\n",
       "    </tr>\n",
       "    <tr>\n",
       "      <th>3</th>\n",
       "      <td>0</td>\n",
       "      <td>0</td>\n",
       "      <td>0</td>\n",
       "      <td>0</td>\n",
       "      <td>0</td>\n",
       "      <td>0</td>\n",
       "      <td>0</td>\n",
       "      <td>0</td>\n",
       "      <td>0</td>\n",
       "      <td>0</td>\n",
       "      <td>...</td>\n",
       "      <td>0</td>\n",
       "      <td>0</td>\n",
       "      <td>0</td>\n",
       "      <td>0</td>\n",
       "      <td>0</td>\n",
       "      <td>0</td>\n",
       "      <td>0</td>\n",
       "      <td>0</td>\n",
       "      <td>0</td>\n",
       "      <td>0</td>\n",
       "    </tr>\n",
       "    <tr>\n",
       "      <th>4</th>\n",
       "      <td>0</td>\n",
       "      <td>0</td>\n",
       "      <td>0</td>\n",
       "      <td>0</td>\n",
       "      <td>0</td>\n",
       "      <td>0</td>\n",
       "      <td>0</td>\n",
       "      <td>0</td>\n",
       "      <td>0</td>\n",
       "      <td>0</td>\n",
       "      <td>...</td>\n",
       "      <td>0</td>\n",
       "      <td>0</td>\n",
       "      <td>0</td>\n",
       "      <td>0</td>\n",
       "      <td>0</td>\n",
       "      <td>0</td>\n",
       "      <td>0</td>\n",
       "      <td>0</td>\n",
       "      <td>0</td>\n",
       "      <td>0</td>\n",
       "    </tr>\n",
       "  </tbody>\n",
       "</table>\n",
       "<p>5 rows × 62 columns</p>\n",
       "</div>"
      ],
      "text/plain": [
       "   ballgown  blazer  blouse  blouson  bomber  buttondown  cami  cape  \\\n",
       "0         0       0       0        0       0           0     0     0   \n",
       "1         0       0       0        0       0           0     0     0   \n",
       "2         0       0       0        0       0           0     0     0   \n",
       "3         0       0       0        0       0           0     0     0   \n",
       "4         0       0       0        0       0           0     0     0   \n",
       "\n",
       "   cardigan  coat  ...  t-shirt  tank  tee  top  trench  trouser  trousers  \\\n",
       "0         0     0  ...        0     0    0    0       0        0         0   \n",
       "1         0     0  ...        0     0    0    0       0        0         0   \n",
       "2         0     0  ...        0     0    0    0       0        0         0   \n",
       "3         0     0  ...        0     0    0    0       0        0         0   \n",
       "4         0     0  ...        0     0    0    0       0        0         0   \n",
       "\n",
       "   tunic  turtleneck  vest  \n",
       "0      0           0     0  \n",
       "1      0           0     0  \n",
       "2      0           0     0  \n",
       "3      0           0     0  \n",
       "4      0           0     0  \n",
       "\n",
       "[5 rows x 62 columns]"
      ]
     },
     "execution_count": 9,
     "metadata": {},
     "output_type": "execute_result"
    }
   ],
   "source": [
    "category.head()"
   ]
  },
  {
   "cell_type": "code",
   "execution_count": 10,
   "metadata": {},
   "outputs": [],
   "source": [
    "# creating column for different values present in fir which only have 0 and 1 which can be used for training\n",
    "fit = pd.get_dummies(reviews['fit'])"
   ]
  },
  {
   "cell_type": "code",
   "execution_count": 11,
   "metadata": {},
   "outputs": [
    {
     "data": {
      "text/html": [
       "<div>\n",
       "<style scoped>\n",
       "    .dataframe tbody tr th:only-of-type {\n",
       "        vertical-align: middle;\n",
       "    }\n",
       "\n",
       "    .dataframe tbody tr th {\n",
       "        vertical-align: top;\n",
       "    }\n",
       "\n",
       "    .dataframe thead th {\n",
       "        text-align: right;\n",
       "    }\n",
       "</style>\n",
       "<table border=\"1\" class=\"dataframe\">\n",
       "  <thead>\n",
       "    <tr style=\"text-align: right;\">\n",
       "      <th></th>\n",
       "      <th>fit</th>\n",
       "      <th>large</th>\n",
       "      <th>small</th>\n",
       "    </tr>\n",
       "  </thead>\n",
       "  <tbody>\n",
       "    <tr>\n",
       "      <th>0</th>\n",
       "      <td>1</td>\n",
       "      <td>0</td>\n",
       "      <td>0</td>\n",
       "    </tr>\n",
       "    <tr>\n",
       "      <th>1</th>\n",
       "      <td>0</td>\n",
       "      <td>1</td>\n",
       "      <td>0</td>\n",
       "    </tr>\n",
       "    <tr>\n",
       "      <th>2</th>\n",
       "      <td>1</td>\n",
       "      <td>0</td>\n",
       "      <td>0</td>\n",
       "    </tr>\n",
       "    <tr>\n",
       "      <th>3</th>\n",
       "      <td>1</td>\n",
       "      <td>0</td>\n",
       "      <td>0</td>\n",
       "    </tr>\n",
       "    <tr>\n",
       "      <th>4</th>\n",
       "      <td>1</td>\n",
       "      <td>0</td>\n",
       "      <td>0</td>\n",
       "    </tr>\n",
       "  </tbody>\n",
       "</table>\n",
       "</div>"
      ],
      "text/plain": [
       "   fit  large  small\n",
       "0    1      0      0\n",
       "1    0      1      0\n",
       "2    1      0      0\n",
       "3    1      0      0\n",
       "4    1      0      0"
      ]
     },
     "execution_count": 11,
     "metadata": {},
     "output_type": "execute_result"
    }
   ],
   "source": [
    "fit.head()"
   ]
  },
  {
   "cell_type": "code",
   "execution_count": 12,
   "metadata": {},
   "outputs": [],
   "source": [
    "# creating column for different values present in rented which only have 0 and 1 which can be used for training\n",
    "rented = pd.get_dummies(reviews['rented for'])"
   ]
  },
  {
   "cell_type": "code",
   "execution_count": 13,
   "metadata": {},
   "outputs": [
    {
     "data": {
      "text/html": [
       "<div>\n",
       "<style scoped>\n",
       "    .dataframe tbody tr th:only-of-type {\n",
       "        vertical-align: middle;\n",
       "    }\n",
       "\n",
       "    .dataframe tbody tr th {\n",
       "        vertical-align: top;\n",
       "    }\n",
       "\n",
       "    .dataframe thead th {\n",
       "        text-align: right;\n",
       "    }\n",
       "</style>\n",
       "<table border=\"1\" class=\"dataframe\">\n",
       "  <thead>\n",
       "    <tr style=\"text-align: right;\">\n",
       "      <th></th>\n",
       "      <th>date</th>\n",
       "      <th>everyday</th>\n",
       "      <th>formal affair</th>\n",
       "      <th>other</th>\n",
       "      <th>party</th>\n",
       "      <th>vacation</th>\n",
       "      <th>wedding</th>\n",
       "      <th>work</th>\n",
       "    </tr>\n",
       "  </thead>\n",
       "  <tbody>\n",
       "    <tr>\n",
       "      <th>0</th>\n",
       "      <td>0</td>\n",
       "      <td>1</td>\n",
       "      <td>0</td>\n",
       "      <td>0</td>\n",
       "      <td>0</td>\n",
       "      <td>0</td>\n",
       "      <td>0</td>\n",
       "      <td>0</td>\n",
       "    </tr>\n",
       "    <tr>\n",
       "      <th>1</th>\n",
       "      <td>0</td>\n",
       "      <td>0</td>\n",
       "      <td>0</td>\n",
       "      <td>0</td>\n",
       "      <td>0</td>\n",
       "      <td>0</td>\n",
       "      <td>1</td>\n",
       "      <td>0</td>\n",
       "    </tr>\n",
       "    <tr>\n",
       "      <th>2</th>\n",
       "      <td>0</td>\n",
       "      <td>0</td>\n",
       "      <td>0</td>\n",
       "      <td>0</td>\n",
       "      <td>0</td>\n",
       "      <td>0</td>\n",
       "      <td>1</td>\n",
       "      <td>0</td>\n",
       "    </tr>\n",
       "    <tr>\n",
       "      <th>3</th>\n",
       "      <td>0</td>\n",
       "      <td>0</td>\n",
       "      <td>0</td>\n",
       "      <td>0</td>\n",
       "      <td>0</td>\n",
       "      <td>0</td>\n",
       "      <td>1</td>\n",
       "      <td>0</td>\n",
       "    </tr>\n",
       "    <tr>\n",
       "      <th>4</th>\n",
       "      <td>0</td>\n",
       "      <td>0</td>\n",
       "      <td>0</td>\n",
       "      <td>0</td>\n",
       "      <td>0</td>\n",
       "      <td>0</td>\n",
       "      <td>0</td>\n",
       "      <td>1</td>\n",
       "    </tr>\n",
       "  </tbody>\n",
       "</table>\n",
       "</div>"
      ],
      "text/plain": [
       "   date  everyday  formal affair  other  party  vacation  wedding  work\n",
       "0     0         1              0      0      0         0        0     0\n",
       "1     0         0              0      0      0         0        1     0\n",
       "2     0         0              0      0      0         0        1     0\n",
       "3     0         0              0      0      0         0        1     0\n",
       "4     0         0              0      0      0         0        0     1"
      ]
     },
     "execution_count": 13,
     "metadata": {},
     "output_type": "execute_result"
    }
   ],
   "source": [
    "rented.head()"
   ]
  },
  {
   "cell_type": "code",
   "execution_count": 14,
   "metadata": {},
   "outputs": [
    {
     "name": "stdout",
     "output_type": "stream",
     "text": [
      "<class 'pandas.core.frame.DataFrame'>\n",
      "RangeIndex: 48136 entries, 0 to 48135\n",
      "Data columns (total 15 columns):\n",
      "age               47894 non-null float64\n",
      "body type         44544 non-null object\n",
      "bust size         43567 non-null object\n",
      "category          48136 non-null object\n",
      "fit               48136 non-null object\n",
      "height            47952 non-null object\n",
      "item_id           48136 non-null int64\n",
      "rating            48116 non-null float64\n",
      "rented for        48133 non-null object\n",
      "review_date       48136 non-null object\n",
      "review_summary    48136 non-null object\n",
      "review_text       48136 non-null object\n",
      "size              48136 non-null int64\n",
      "user_id           48136 non-null int64\n",
      "weight            40594 non-null object\n",
      "dtypes: float64(2), int64(3), object(10)\n",
      "memory usage: 5.5+ MB\n"
     ]
    }
   ],
   "source": [
    "reviews.info()"
   ]
  },
  {
   "cell_type": "raw",
   "metadata": {},
   "source": []
  },
  {
   "cell_type": "code",
   "execution_count": 15,
   "metadata": {},
   "outputs": [],
   "source": [
    "# creatin year column\n",
    "reviews['year'] = \"\""
   ]
  },
  {
   "cell_type": "code",
   "execution_count": 16,
   "metadata": {},
   "outputs": [],
   "source": [
    "# getting years in column names 'Year' from reiew_date column\n",
    "reviews['year'] = reviews['review_date'].str[-4:]"
   ]
  },
  {
   "cell_type": "code",
   "execution_count": 17,
   "metadata": {},
   "outputs": [
    {
     "data": {
      "text/html": [
       "<div>\n",
       "<style scoped>\n",
       "    .dataframe tbody tr th:only-of-type {\n",
       "        vertical-align: middle;\n",
       "    }\n",
       "\n",
       "    .dataframe tbody tr th {\n",
       "        vertical-align: top;\n",
       "    }\n",
       "\n",
       "    .dataframe thead th {\n",
       "        text-align: right;\n",
       "    }\n",
       "</style>\n",
       "<table border=\"1\" class=\"dataframe\">\n",
       "  <thead>\n",
       "    <tr style=\"text-align: right;\">\n",
       "      <th></th>\n",
       "      <th>age</th>\n",
       "      <th>body type</th>\n",
       "      <th>bust size</th>\n",
       "      <th>category</th>\n",
       "      <th>fit</th>\n",
       "      <th>height</th>\n",
       "      <th>item_id</th>\n",
       "      <th>rating</th>\n",
       "      <th>rented for</th>\n",
       "      <th>review_date</th>\n",
       "      <th>review_summary</th>\n",
       "      <th>review_text</th>\n",
       "      <th>size</th>\n",
       "      <th>user_id</th>\n",
       "      <th>weight</th>\n",
       "      <th>year</th>\n",
       "    </tr>\n",
       "  </thead>\n",
       "  <tbody>\n",
       "    <tr>\n",
       "      <th>0</th>\n",
       "      <td>36.0</td>\n",
       "      <td>athletic</td>\n",
       "      <td>32ddd/e</td>\n",
       "      <td>sweater</td>\n",
       "      <td>fit</td>\n",
       "      <td>5' 6\"</td>\n",
       "      <td>2340200</td>\n",
       "      <td>10.0</td>\n",
       "      <td>everyday</td>\n",
       "      <td>April 10, 2016</td>\n",
       "      <td>'Want to buy it'</td>\n",
       "      <td>'Perfect for everyday!'</td>\n",
       "      <td>8</td>\n",
       "      <td>427200</td>\n",
       "      <td>140lbs</td>\n",
       "      <td>2016</td>\n",
       "    </tr>\n",
       "    <tr>\n",
       "      <th>1</th>\n",
       "      <td>37.0</td>\n",
       "      <td>full bust</td>\n",
       "      <td>36d</td>\n",
       "      <td>gown</td>\n",
       "      <td>large</td>\n",
       "      <td>5' 6\"</td>\n",
       "      <td>139086</td>\n",
       "      <td>10.0</td>\n",
       "      <td>wedding</td>\n",
       "      <td>September 23, 2013</td>\n",
       "      <td>'Makes a statement...tons of compliments all n...</td>\n",
       "      <td>'This dress was a last minute emergency replac...</td>\n",
       "      <td>20</td>\n",
       "      <td>162760</td>\n",
       "      <td>128lbs</td>\n",
       "      <td>2013</td>\n",
       "    </tr>\n",
       "    <tr>\n",
       "      <th>2</th>\n",
       "      <td>33.0</td>\n",
       "      <td>athletic</td>\n",
       "      <td>34b</td>\n",
       "      <td>gown</td>\n",
       "      <td>fit</td>\n",
       "      <td>5' 5\"</td>\n",
       "      <td>162634</td>\n",
       "      <td>8.0</td>\n",
       "      <td>wedding</td>\n",
       "      <td>July 17, 2014</td>\n",
       "      <td>'Perfect for Black Tie optional Wedding!!'</td>\n",
       "      <td>\"The dress was a very bright blue color in per...</td>\n",
       "      <td>12</td>\n",
       "      <td>714701</td>\n",
       "      <td>132lbs</td>\n",
       "      <td>2014</td>\n",
       "    </tr>\n",
       "    <tr>\n",
       "      <th>3</th>\n",
       "      <td>30.0</td>\n",
       "      <td>athletic</td>\n",
       "      <td>38b</td>\n",
       "      <td>dress</td>\n",
       "      <td>fit</td>\n",
       "      <td>5' 2\"</td>\n",
       "      <td>174086</td>\n",
       "      <td>10.0</td>\n",
       "      <td>wedding</td>\n",
       "      <td>March 28, 2017</td>\n",
       "      <td>'I loved the fit and pockets! '</td>\n",
       "      <td>'I loved the fit of this dress. I wore it thro...</td>\n",
       "      <td>28</td>\n",
       "      <td>97194</td>\n",
       "      <td>NaN</td>\n",
       "      <td>2017</td>\n",
       "    </tr>\n",
       "    <tr>\n",
       "      <th>4</th>\n",
       "      <td>31.0</td>\n",
       "      <td>full bust</td>\n",
       "      <td>34c</td>\n",
       "      <td>dress</td>\n",
       "      <td>fit</td>\n",
       "      <td>5' 3\"</td>\n",
       "      <td>916397</td>\n",
       "      <td>10.0</td>\n",
       "      <td>work</td>\n",
       "      <td>November 18, 2015</td>\n",
       "      <td>'really great dress!'</td>\n",
       "      <td>\"i wore this for work meetings and it was perf...</td>\n",
       "      <td>12</td>\n",
       "      <td>691468</td>\n",
       "      <td>125lbs</td>\n",
       "      <td>2015</td>\n",
       "    </tr>\n",
       "  </tbody>\n",
       "</table>\n",
       "</div>"
      ],
      "text/plain": [
       "    age  body type bust size category    fit height  item_id  rating  \\\n",
       "0  36.0   athletic   32ddd/e  sweater    fit  5' 6\"  2340200    10.0   \n",
       "1  37.0  full bust       36d     gown  large  5' 6\"   139086    10.0   \n",
       "2  33.0   athletic       34b     gown    fit  5' 5\"   162634     8.0   \n",
       "3  30.0   athletic       38b    dress    fit  5' 2\"   174086    10.0   \n",
       "4  31.0  full bust       34c    dress    fit  5' 3\"   916397    10.0   \n",
       "\n",
       "  rented for         review_date  \\\n",
       "0   everyday      April 10, 2016   \n",
       "1    wedding  September 23, 2013   \n",
       "2    wedding       July 17, 2014   \n",
       "3    wedding      March 28, 2017   \n",
       "4       work   November 18, 2015   \n",
       "\n",
       "                                      review_summary  \\\n",
       "0                                   'Want to buy it'   \n",
       "1  'Makes a statement...tons of compliments all n...   \n",
       "2         'Perfect for Black Tie optional Wedding!!'   \n",
       "3                    'I loved the fit and pockets! '   \n",
       "4                              'really great dress!'   \n",
       "\n",
       "                                         review_text  size  user_id  weight  \\\n",
       "0                            'Perfect for everyday!'     8   427200  140lbs   \n",
       "1  'This dress was a last minute emergency replac...    20   162760  128lbs   \n",
       "2  \"The dress was a very bright blue color in per...    12   714701  132lbs   \n",
       "3  'I loved the fit of this dress. I wore it thro...    28    97194     NaN   \n",
       "4  \"i wore this for work meetings and it was perf...    12   691468  125lbs   \n",
       "\n",
       "   year  \n",
       "0  2016  \n",
       "1  2013  \n",
       "2  2014  \n",
       "3  2017  \n",
       "4  2015  "
      ]
     },
     "execution_count": 17,
     "metadata": {},
     "output_type": "execute_result"
    }
   ],
   "source": [
    "reviews.head()"
   ]
  },
  {
   "cell_type": "code",
   "execution_count": 18,
   "metadata": {},
   "outputs": [],
   "source": [
    "# creatin days column\n",
    "reviews['day'] = \"\""
   ]
  },
  {
   "cell_type": "code",
   "execution_count": 19,
   "metadata": {},
   "outputs": [],
   "source": [
    "# getting days in column names 'Days' from reiew_date column\n",
    "reviews['day'] = reviews['review_date'].str[-8:-6]"
   ]
  },
  {
   "cell_type": "code",
   "execution_count": 20,
   "metadata": {},
   "outputs": [],
   "source": [
    "# cleaning height column value "
   ]
  },
  {
   "cell_type": "code",
   "execution_count": 21,
   "metadata": {},
   "outputs": [],
   "source": [
    "# replacing single quotes with blank space\n",
    "reviews['height'] = reviews['height'].str.replace('\\' ', '.')"
   ]
  },
  {
   "cell_type": "code",
   "execution_count": 22,
   "metadata": {},
   "outputs": [],
   "source": [
    "# replacing double quotes with blank space\n",
    "reviews['height'] = reviews['height'].str.replace('\"','')"
   ]
  },
  {
   "cell_type": "code",
   "execution_count": 23,
   "metadata": {},
   "outputs": [],
   "source": [
    "# conversion of string value to flaot\n",
    "reviews['height'] = reviews['height'].astype('float')"
   ]
  },
  {
   "cell_type": "code",
   "execution_count": 24,
   "metadata": {},
   "outputs": [
    {
     "name": "stdout",
     "output_type": "stream",
     "text": [
      "<class 'pandas.core.frame.DataFrame'>\n",
      "RangeIndex: 48136 entries, 0 to 48135\n",
      "Data columns (total 17 columns):\n",
      "age               47894 non-null float64\n",
      "body type         44544 non-null object\n",
      "bust size         43567 non-null object\n",
      "category          48136 non-null object\n",
      "fit               48136 non-null object\n",
      "height            47952 non-null float64\n",
      "item_id           48136 non-null int64\n",
      "rating            48116 non-null float64\n",
      "rented for        48133 non-null object\n",
      "review_date       48136 non-null object\n",
      "review_summary    48136 non-null object\n",
      "review_text       48136 non-null object\n",
      "size              48136 non-null int64\n",
      "user_id           48136 non-null int64\n",
      "weight            40594 non-null object\n",
      "year              48136 non-null object\n",
      "day               48136 non-null object\n",
      "dtypes: float64(3), int64(3), object(11)\n",
      "memory usage: 6.2+ MB\n"
     ]
    }
   ],
   "source": [
    "reviews.info()"
   ]
  },
  {
   "cell_type": "code",
   "execution_count": 25,
   "metadata": {},
   "outputs": [],
   "source": [
    "# cleaning weight column value removing \"lbs\"\n",
    "reviews['weight'] = reviews['weight'].str.replace('lbs','')"
   ]
  },
  {
   "cell_type": "code",
   "execution_count": 26,
   "metadata": {},
   "outputs": [],
   "source": [
    "#merging new created dataframes with original reviews dataframe\n",
    "reviews = pd.concat([reviews,body,category,fit,rented],axis = 1)"
   ]
  },
  {
   "cell_type": "code",
   "execution_count": 27,
   "metadata": {},
   "outputs": [
    {
     "data": {
      "text/html": [
       "<div>\n",
       "<style scoped>\n",
       "    .dataframe tbody tr th:only-of-type {\n",
       "        vertical-align: middle;\n",
       "    }\n",
       "\n",
       "    .dataframe tbody tr th {\n",
       "        vertical-align: top;\n",
       "    }\n",
       "\n",
       "    .dataframe thead th {\n",
       "        text-align: right;\n",
       "    }\n",
       "</style>\n",
       "<table border=\"1\" class=\"dataframe\">\n",
       "  <thead>\n",
       "    <tr style=\"text-align: right;\">\n",
       "      <th></th>\n",
       "      <th>age</th>\n",
       "      <th>body type</th>\n",
       "      <th>bust size</th>\n",
       "      <th>category</th>\n",
       "      <th>fit</th>\n",
       "      <th>height</th>\n",
       "      <th>item_id</th>\n",
       "      <th>rating</th>\n",
       "      <th>rented for</th>\n",
       "      <th>review_date</th>\n",
       "      <th>...</th>\n",
       "      <th>large</th>\n",
       "      <th>small</th>\n",
       "      <th>date</th>\n",
       "      <th>everyday</th>\n",
       "      <th>formal affair</th>\n",
       "      <th>other</th>\n",
       "      <th>party</th>\n",
       "      <th>vacation</th>\n",
       "      <th>wedding</th>\n",
       "      <th>work</th>\n",
       "    </tr>\n",
       "  </thead>\n",
       "  <tbody>\n",
       "    <tr>\n",
       "      <th>0</th>\n",
       "      <td>36.0</td>\n",
       "      <td>athletic</td>\n",
       "      <td>32ddd/e</td>\n",
       "      <td>sweater</td>\n",
       "      <td>fit</td>\n",
       "      <td>5.6</td>\n",
       "      <td>2340200</td>\n",
       "      <td>10.0</td>\n",
       "      <td>everyday</td>\n",
       "      <td>April 10, 2016</td>\n",
       "      <td>...</td>\n",
       "      <td>0</td>\n",
       "      <td>0</td>\n",
       "      <td>0</td>\n",
       "      <td>1</td>\n",
       "      <td>0</td>\n",
       "      <td>0</td>\n",
       "      <td>0</td>\n",
       "      <td>0</td>\n",
       "      <td>0</td>\n",
       "      <td>0</td>\n",
       "    </tr>\n",
       "    <tr>\n",
       "      <th>1</th>\n",
       "      <td>37.0</td>\n",
       "      <td>full bust</td>\n",
       "      <td>36d</td>\n",
       "      <td>gown</td>\n",
       "      <td>large</td>\n",
       "      <td>5.6</td>\n",
       "      <td>139086</td>\n",
       "      <td>10.0</td>\n",
       "      <td>wedding</td>\n",
       "      <td>September 23, 2013</td>\n",
       "      <td>...</td>\n",
       "      <td>1</td>\n",
       "      <td>0</td>\n",
       "      <td>0</td>\n",
       "      <td>0</td>\n",
       "      <td>0</td>\n",
       "      <td>0</td>\n",
       "      <td>0</td>\n",
       "      <td>0</td>\n",
       "      <td>1</td>\n",
       "      <td>0</td>\n",
       "    </tr>\n",
       "    <tr>\n",
       "      <th>2</th>\n",
       "      <td>33.0</td>\n",
       "      <td>athletic</td>\n",
       "      <td>34b</td>\n",
       "      <td>gown</td>\n",
       "      <td>fit</td>\n",
       "      <td>5.5</td>\n",
       "      <td>162634</td>\n",
       "      <td>8.0</td>\n",
       "      <td>wedding</td>\n",
       "      <td>July 17, 2014</td>\n",
       "      <td>...</td>\n",
       "      <td>0</td>\n",
       "      <td>0</td>\n",
       "      <td>0</td>\n",
       "      <td>0</td>\n",
       "      <td>0</td>\n",
       "      <td>0</td>\n",
       "      <td>0</td>\n",
       "      <td>0</td>\n",
       "      <td>1</td>\n",
       "      <td>0</td>\n",
       "    </tr>\n",
       "    <tr>\n",
       "      <th>3</th>\n",
       "      <td>30.0</td>\n",
       "      <td>athletic</td>\n",
       "      <td>38b</td>\n",
       "      <td>dress</td>\n",
       "      <td>fit</td>\n",
       "      <td>5.2</td>\n",
       "      <td>174086</td>\n",
       "      <td>10.0</td>\n",
       "      <td>wedding</td>\n",
       "      <td>March 28, 2017</td>\n",
       "      <td>...</td>\n",
       "      <td>0</td>\n",
       "      <td>0</td>\n",
       "      <td>0</td>\n",
       "      <td>0</td>\n",
       "      <td>0</td>\n",
       "      <td>0</td>\n",
       "      <td>0</td>\n",
       "      <td>0</td>\n",
       "      <td>1</td>\n",
       "      <td>0</td>\n",
       "    </tr>\n",
       "    <tr>\n",
       "      <th>4</th>\n",
       "      <td>31.0</td>\n",
       "      <td>full bust</td>\n",
       "      <td>34c</td>\n",
       "      <td>dress</td>\n",
       "      <td>fit</td>\n",
       "      <td>5.3</td>\n",
       "      <td>916397</td>\n",
       "      <td>10.0</td>\n",
       "      <td>work</td>\n",
       "      <td>November 18, 2015</td>\n",
       "      <td>...</td>\n",
       "      <td>0</td>\n",
       "      <td>0</td>\n",
       "      <td>0</td>\n",
       "      <td>0</td>\n",
       "      <td>0</td>\n",
       "      <td>0</td>\n",
       "      <td>0</td>\n",
       "      <td>0</td>\n",
       "      <td>0</td>\n",
       "      <td>1</td>\n",
       "    </tr>\n",
       "  </tbody>\n",
       "</table>\n",
       "<p>5 rows × 97 columns</p>\n",
       "</div>"
      ],
      "text/plain": [
       "    age  body type bust size category    fit  height  item_id  rating  \\\n",
       "0  36.0   athletic   32ddd/e  sweater    fit     5.6  2340200    10.0   \n",
       "1  37.0  full bust       36d     gown  large     5.6   139086    10.0   \n",
       "2  33.0   athletic       34b     gown    fit     5.5   162634     8.0   \n",
       "3  30.0   athletic       38b    dress    fit     5.2   174086    10.0   \n",
       "4  31.0  full bust       34c    dress    fit     5.3   916397    10.0   \n",
       "\n",
       "  rented for         review_date  ... large small  date  everyday  \\\n",
       "0   everyday      April 10, 2016  ...     0     0     0         1   \n",
       "1    wedding  September 23, 2013  ...     1     0     0         0   \n",
       "2    wedding       July 17, 2014  ...     0     0     0         0   \n",
       "3    wedding      March 28, 2017  ...     0     0     0         0   \n",
       "4       work   November 18, 2015  ...     0     0     0         0   \n",
       "\n",
       "  formal affair other party  vacation  wedding  work  \n",
       "0             0     0     0         0        0     0  \n",
       "1             0     0     0         0        1     0  \n",
       "2             0     0     0         0        1     0  \n",
       "3             0     0     0         0        1     0  \n",
       "4             0     0     0         0        0     1  \n",
       "\n",
       "[5 rows x 97 columns]"
      ]
     },
     "execution_count": 27,
     "metadata": {},
     "output_type": "execute_result"
    }
   ],
   "source": [
    "reviews.head()"
   ]
  },
  {
   "cell_type": "code",
   "execution_count": 28,
   "metadata": {},
   "outputs": [],
   "source": [
    "col = ['body type', 'bust size', 'category', 'fit', 'rented for', 'review_date', 'user_id', 'item_id']"
   ]
  },
  {
   "cell_type": "markdown",
   "metadata": {},
   "source": [
    "## IMPLEMENTING MACHINE LEARNING ALGORITHMS"
   ]
  },
  {
   "cell_type": "markdown",
   "metadata": {},
   "source": [
    "### PART 1: Without Text Data"
   ]
  },
  {
   "cell_type": "code",
   "execution_count": 29,
   "metadata": {},
   "outputs": [],
   "source": [
    "# droping the column which are of no use\n",
    "reviews.drop(columns=col, inplace=True)"
   ]
  },
  {
   "cell_type": "code",
   "execution_count": 30,
   "metadata": {},
   "outputs": [
    {
     "name": "stdout",
     "output_type": "stream",
     "text": [
      "<class 'pandas.core.frame.DataFrame'>\n",
      "RangeIndex: 48136 entries, 0 to 48135\n",
      "Data columns (total 88 columns):\n",
      "age                  47894 non-null float64\n",
      "height               47952 non-null float64\n",
      "rating               48116 non-null float64\n",
      "review_summary       48136 non-null object\n",
      "review_text          48136 non-null object\n",
      "size                 48136 non-null int64\n",
      "weight               40594 non-null object\n",
      "year                 48136 non-null object\n",
      "day                  48136 non-null object\n",
      "apple                48136 non-null uint8\n",
      "athletic             48136 non-null uint8\n",
      "full bust            48136 non-null uint8\n",
      "hourglass            48136 non-null uint8\n",
      "pear                 48136 non-null uint8\n",
      "petite               48136 non-null uint8\n",
      "straight & narrow    48136 non-null uint8\n",
      "ballgown             48136 non-null uint8\n",
      "blazer               48136 non-null uint8\n",
      "blouse               48136 non-null uint8\n",
      "blouson              48136 non-null uint8\n",
      "bomber               48136 non-null uint8\n",
      "buttondown           48136 non-null uint8\n",
      "cami                 48136 non-null uint8\n",
      "cape                 48136 non-null uint8\n",
      "cardigan             48136 non-null uint8\n",
      "coat                 48136 non-null uint8\n",
      "combo                48136 non-null uint8\n",
      "crewneck             48136 non-null uint8\n",
      "culotte              48136 non-null uint8\n",
      "culottes             48136 non-null uint8\n",
      "down                 48136 non-null uint8\n",
      "dress                48136 non-null uint8\n",
      "duster               48136 non-null uint8\n",
      "for                  48136 non-null uint8\n",
      "frock                48136 non-null uint8\n",
      "gown                 48136 non-null uint8\n",
      "henley               48136 non-null uint8\n",
      "hoodie               48136 non-null uint8\n",
      "jacket               48136 non-null uint8\n",
      "jeans                48136 non-null uint8\n",
      "jumpsuit             48136 non-null uint8\n",
      "kaftan               48136 non-null uint8\n",
      "kimono               48136 non-null uint8\n",
      "knit                 48136 non-null uint8\n",
      "legging              48136 non-null uint8\n",
      "leggings             48136 non-null uint8\n",
      "maxi                 48136 non-null uint8\n",
      "midi                 48136 non-null uint8\n",
      "mini                 48136 non-null uint8\n",
      "overalls             48136 non-null uint8\n",
      "pant                 48136 non-null uint8\n",
      "pants                48136 non-null uint8\n",
      "parka                48136 non-null uint8\n",
      "peacoat              48136 non-null uint8\n",
      "poncho               48136 non-null uint8\n",
      "print                48136 non-null uint8\n",
      "pullover             48136 non-null uint8\n",
      "romper               48136 non-null uint8\n",
      "sheath               48136 non-null uint8\n",
      "shift                48136 non-null uint8\n",
      "shirt                48136 non-null uint8\n",
      "shirtdress           48136 non-null uint8\n",
      "skirt                48136 non-null uint8\n",
      "skirts               48136 non-null uint8\n",
      "skort                48136 non-null uint8\n",
      "suit                 48136 non-null uint8\n",
      "sweater              48136 non-null uint8\n",
      "sweatshirt           48136 non-null uint8\n",
      "t-shirt              48136 non-null uint8\n",
      "tank                 48136 non-null uint8\n",
      "tee                  48136 non-null uint8\n",
      "top                  48136 non-null uint8\n",
      "trench               48136 non-null uint8\n",
      "trouser              48136 non-null uint8\n",
      "trousers             48136 non-null uint8\n",
      "tunic                48136 non-null uint8\n",
      "turtleneck           48136 non-null uint8\n",
      "vest                 48136 non-null uint8\n",
      "large                48136 non-null uint8\n",
      "small                48136 non-null uint8\n",
      "date                 48136 non-null uint8\n",
      "everyday             48136 non-null uint8\n",
      "formal affair        48136 non-null uint8\n",
      "other                48136 non-null uint8\n",
      "party                48136 non-null uint8\n",
      "vacation             48136 non-null uint8\n",
      "wedding              48136 non-null uint8\n",
      "work                 48136 non-null uint8\n",
      "dtypes: float64(3), int64(1), object(5), uint8(79)\n",
      "memory usage: 6.9+ MB\n"
     ]
    }
   ],
   "source": [
    "reviews.info()"
   ]
  },
  {
   "cell_type": "code",
   "execution_count": 31,
   "metadata": {},
   "outputs": [],
   "source": [
    "# converting all the string object to float\n",
    "reviews['weight'] = reviews['weight'].astype('float')\n",
    "reviews['year'] = reviews['year'].astype('float')\n",
    "reviews['day'] = reviews['day'].astype('float')"
   ]
  },
  {
   "cell_type": "code",
   "execution_count": 32,
   "metadata": {},
   "outputs": [],
   "source": [
    "# droping column having null values\n",
    "reviews.dropna(inplace=True)"
   ]
  },
  {
   "cell_type": "markdown",
   "metadata": {},
   "source": [
    "### Implementing Logistic Regression"
   ]
  },
  {
   "cell_type": "code",
   "execution_count": 33,
   "metadata": {},
   "outputs": [],
   "source": [
    "from sklearn.feature_extraction.text import CountVectorizer\n",
    "from sklearn.model_selection import train_test_split\n",
    "from sklearn.linear_model import LogisticRegression"
   ]
  },
  {
   "cell_type": "code",
   "execution_count": 34,
   "metadata": {},
   "outputs": [],
   "source": [
    "drop_col = ['review_text', 'review_summary']"
   ]
  },
  {
   "cell_type": "code",
   "execution_count": 35,
   "metadata": {},
   "outputs": [],
   "source": [
    "X = reviews.drop(columns=drop_col)"
   ]
  },
  {
   "cell_type": "code",
   "execution_count": 36,
   "metadata": {},
   "outputs": [],
   "source": [
    "Y = reviews.rating"
   ]
  },
  {
   "cell_type": "code",
   "execution_count": 37,
   "metadata": {},
   "outputs": [
    {
     "data": {
      "text/html": [
       "<div>\n",
       "<style scoped>\n",
       "    .dataframe tbody tr th:only-of-type {\n",
       "        vertical-align: middle;\n",
       "    }\n",
       "\n",
       "    .dataframe tbody tr th {\n",
       "        vertical-align: top;\n",
       "    }\n",
       "\n",
       "    .dataframe thead th {\n",
       "        text-align: right;\n",
       "    }\n",
       "</style>\n",
       "<table border=\"1\" class=\"dataframe\">\n",
       "  <thead>\n",
       "    <tr style=\"text-align: right;\">\n",
       "      <th></th>\n",
       "      <th>age</th>\n",
       "      <th>height</th>\n",
       "      <th>rating</th>\n",
       "      <th>size</th>\n",
       "      <th>weight</th>\n",
       "      <th>year</th>\n",
       "      <th>day</th>\n",
       "      <th>apple</th>\n",
       "      <th>athletic</th>\n",
       "      <th>full bust</th>\n",
       "      <th>...</th>\n",
       "      <th>large</th>\n",
       "      <th>small</th>\n",
       "      <th>date</th>\n",
       "      <th>everyday</th>\n",
       "      <th>formal affair</th>\n",
       "      <th>other</th>\n",
       "      <th>party</th>\n",
       "      <th>vacation</th>\n",
       "      <th>wedding</th>\n",
       "      <th>work</th>\n",
       "    </tr>\n",
       "  </thead>\n",
       "  <tbody>\n",
       "    <tr>\n",
       "      <th>0</th>\n",
       "      <td>36.0</td>\n",
       "      <td>5.6</td>\n",
       "      <td>10.0</td>\n",
       "      <td>8</td>\n",
       "      <td>140.0</td>\n",
       "      <td>2016.0</td>\n",
       "      <td>10.0</td>\n",
       "      <td>0</td>\n",
       "      <td>1</td>\n",
       "      <td>0</td>\n",
       "      <td>...</td>\n",
       "      <td>0</td>\n",
       "      <td>0</td>\n",
       "      <td>0</td>\n",
       "      <td>1</td>\n",
       "      <td>0</td>\n",
       "      <td>0</td>\n",
       "      <td>0</td>\n",
       "      <td>0</td>\n",
       "      <td>0</td>\n",
       "      <td>0</td>\n",
       "    </tr>\n",
       "    <tr>\n",
       "      <th>1</th>\n",
       "      <td>37.0</td>\n",
       "      <td>5.6</td>\n",
       "      <td>10.0</td>\n",
       "      <td>20</td>\n",
       "      <td>128.0</td>\n",
       "      <td>2013.0</td>\n",
       "      <td>23.0</td>\n",
       "      <td>0</td>\n",
       "      <td>0</td>\n",
       "      <td>1</td>\n",
       "      <td>...</td>\n",
       "      <td>1</td>\n",
       "      <td>0</td>\n",
       "      <td>0</td>\n",
       "      <td>0</td>\n",
       "      <td>0</td>\n",
       "      <td>0</td>\n",
       "      <td>0</td>\n",
       "      <td>0</td>\n",
       "      <td>1</td>\n",
       "      <td>0</td>\n",
       "    </tr>\n",
       "    <tr>\n",
       "      <th>2</th>\n",
       "      <td>33.0</td>\n",
       "      <td>5.5</td>\n",
       "      <td>8.0</td>\n",
       "      <td>12</td>\n",
       "      <td>132.0</td>\n",
       "      <td>2014.0</td>\n",
       "      <td>17.0</td>\n",
       "      <td>0</td>\n",
       "      <td>1</td>\n",
       "      <td>0</td>\n",
       "      <td>...</td>\n",
       "      <td>0</td>\n",
       "      <td>0</td>\n",
       "      <td>0</td>\n",
       "      <td>0</td>\n",
       "      <td>0</td>\n",
       "      <td>0</td>\n",
       "      <td>0</td>\n",
       "      <td>0</td>\n",
       "      <td>1</td>\n",
       "      <td>0</td>\n",
       "    </tr>\n",
       "    <tr>\n",
       "      <th>4</th>\n",
       "      <td>31.0</td>\n",
       "      <td>5.3</td>\n",
       "      <td>10.0</td>\n",
       "      <td>12</td>\n",
       "      <td>125.0</td>\n",
       "      <td>2015.0</td>\n",
       "      <td>18.0</td>\n",
       "      <td>0</td>\n",
       "      <td>0</td>\n",
       "      <td>1</td>\n",
       "      <td>...</td>\n",
       "      <td>0</td>\n",
       "      <td>0</td>\n",
       "      <td>0</td>\n",
       "      <td>0</td>\n",
       "      <td>0</td>\n",
       "      <td>0</td>\n",
       "      <td>0</td>\n",
       "      <td>0</td>\n",
       "      <td>0</td>\n",
       "      <td>1</td>\n",
       "    </tr>\n",
       "    <tr>\n",
       "      <th>5</th>\n",
       "      <td>36.0</td>\n",
       "      <td>5.5</td>\n",
       "      <td>10.0</td>\n",
       "      <td>20</td>\n",
       "      <td>150.0</td>\n",
       "      <td>2015.0</td>\n",
       "      <td>17.0</td>\n",
       "      <td>0</td>\n",
       "      <td>1</td>\n",
       "      <td>0</td>\n",
       "      <td>...</td>\n",
       "      <td>0</td>\n",
       "      <td>0</td>\n",
       "      <td>0</td>\n",
       "      <td>0</td>\n",
       "      <td>0</td>\n",
       "      <td>0</td>\n",
       "      <td>0</td>\n",
       "      <td>0</td>\n",
       "      <td>1</td>\n",
       "      <td>0</td>\n",
       "    </tr>\n",
       "  </tbody>\n",
       "</table>\n",
       "<p>5 rows × 86 columns</p>\n",
       "</div>"
      ],
      "text/plain": [
       "    age  height  rating  size  weight    year   day  apple  athletic  \\\n",
       "0  36.0     5.6    10.0     8   140.0  2016.0  10.0      0         1   \n",
       "1  37.0     5.6    10.0    20   128.0  2013.0  23.0      0         0   \n",
       "2  33.0     5.5     8.0    12   132.0  2014.0  17.0      0         1   \n",
       "4  31.0     5.3    10.0    12   125.0  2015.0  18.0      0         0   \n",
       "5  36.0     5.5    10.0    20   150.0  2015.0  17.0      0         1   \n",
       "\n",
       "   full bust  ...  large  small  date  everyday  formal affair  other  party  \\\n",
       "0          0  ...      0      0     0         1              0      0      0   \n",
       "1          1  ...      1      0     0         0              0      0      0   \n",
       "2          0  ...      0      0     0         0              0      0      0   \n",
       "4          1  ...      0      0     0         0              0      0      0   \n",
       "5          0  ...      0      0     0         0              0      0      0   \n",
       "\n",
       "   vacation  wedding  work  \n",
       "0         0        0     0  \n",
       "1         0        1     0  \n",
       "2         0        1     0  \n",
       "4         0        0     1  \n",
       "5         0        1     0  \n",
       "\n",
       "[5 rows x 86 columns]"
      ]
     },
     "execution_count": 37,
     "metadata": {},
     "output_type": "execute_result"
    }
   ],
   "source": [
    "X.head()"
   ]
  },
  {
   "cell_type": "code",
   "execution_count": 38,
   "metadata": {},
   "outputs": [],
   "source": [
    "x_train, x_test, y_train, y_test = train_test_split(X, Y, test_size=0.25, random_state=101)"
   ]
  },
  {
   "cell_type": "code",
   "execution_count": 39,
   "metadata": {},
   "outputs": [
    {
     "name": "stderr",
     "output_type": "stream",
     "text": [
      "C:\\Users\\Ajit Kumar\\Anaconda2\\lib\\site-packages\\sklearn\\linear_model\\logistic.py:433: FutureWarning: Default solver will be changed to 'lbfgs' in 0.22. Specify a solver to silence this warning.\n",
      "  FutureWarning)\n",
      "C:\\Users\\Ajit Kumar\\Anaconda2\\lib\\site-packages\\sklearn\\linear_model\\logistic.py:460: FutureWarning: Default multi_class will be changed to 'auto' in 0.22. Specify the multi_class option to silence this warning.\n",
      "  \"this warning.\", FutureWarning)\n"
     ]
    }
   ],
   "source": [
    "classifier = LogisticRegression()\n",
    "classifier.fit(x_train, y_train)\n",
    "score = classifier.score(x_test, y_test)"
   ]
  },
  {
   "cell_type": "code",
   "execution_count": 40,
   "metadata": {},
   "outputs": [
    {
     "name": "stdout",
     "output_type": "stream",
     "text": [
      "0.9197940390137638\n"
     ]
    }
   ],
   "source": [
    "print(score)"
   ]
  },
  {
   "cell_type": "code",
   "execution_count": 41,
   "metadata": {},
   "outputs": [],
   "source": [
    "# Creating the Confusion Matrix\n",
    "from sklearn.metrics import confusion_matrix, classification_report"
   ]
  },
  {
   "cell_type": "code",
   "execution_count": 42,
   "metadata": {},
   "outputs": [],
   "source": [
    "predictions = classifier.predict(x_test)"
   ]
  },
  {
   "cell_type": "code",
   "execution_count": 43,
   "metadata": {},
   "outputs": [
    {
     "name": "stdout",
     "output_type": "stream",
     "text": [
      "              precision    recall  f1-score   support\n",
      "\n",
      "         2.0       0.00      0.00      0.00        53\n",
      "         4.0       0.00      0.00      0.00       158\n",
      "         6.0       0.00      0.00      0.00       599\n",
      "         8.0       0.78      1.00      0.87      2814\n",
      "        10.0       1.00      1.00      1.00      6475\n",
      "\n",
      "   micro avg       0.92      0.92      0.92     10099\n",
      "   macro avg       0.36      0.40      0.37     10099\n",
      "weighted avg       0.86      0.92      0.88     10099\n",
      "\n"
     ]
    },
    {
     "name": "stderr",
     "output_type": "stream",
     "text": [
      "C:\\Users\\Ajit Kumar\\Anaconda2\\lib\\site-packages\\sklearn\\metrics\\classification.py:1143: UndefinedMetricWarning: Precision and F-score are ill-defined and being set to 0.0 in labels with no predicted samples.\n",
      "  'precision', 'predicted', average, warn_for)\n"
     ]
    }
   ],
   "source": [
    "print(classification_report(y_test, predictions))"
   ]
  },
  {
   "cell_type": "markdown",
   "metadata": {},
   "source": [
    "#### The above classification report shows that Logistic regression is able to predict all 5 star rating correctly (precision = 1) but could not predict star 2, 4 and 6 rating."
   ]
  },
  {
   "cell_type": "code",
   "execution_count": 44,
   "metadata": {},
   "outputs": [
    {
     "data": {
      "text/plain": [
       "array([[   0,    0,    4,   49,    0],\n",
       "       [   0,    0,    0,  158,    0],\n",
       "       [   0,    0,    0,  599,    0],\n",
       "       [   0,    0,    0, 2814,    0],\n",
       "       [   0,    0,    0,    0, 6475]], dtype=int64)"
      ]
     },
     "execution_count": 44,
     "metadata": {},
     "output_type": "execute_result"
    }
   ],
   "source": [
    "confusion_matrix(y_test, predictions)"
   ]
  },
  {
   "cell_type": "markdown",
   "metadata": {},
   "source": [
    "### Implementing Naive Bayes"
   ]
  },
  {
   "cell_type": "code",
   "execution_count": 45,
   "metadata": {},
   "outputs": [],
   "source": [
    "from sklearn.naive_bayes import MultinomialNB\n",
    "clf = MultinomialNB().fit(x_train, y_train)"
   ]
  },
  {
   "cell_type": "code",
   "execution_count": 46,
   "metadata": {},
   "outputs": [],
   "source": [
    "score = clf.score(x_test, y_test)"
   ]
  },
  {
   "cell_type": "code",
   "execution_count": 47,
   "metadata": {},
   "outputs": [
    {
     "name": "stdout",
     "output_type": "stream",
     "text": [
      "('Accuracy:', 0.6641251609070205)\n"
     ]
    }
   ],
   "source": [
    "print(\"Accuracy:\", score)"
   ]
  },
  {
   "cell_type": "code",
   "execution_count": 48,
   "metadata": {},
   "outputs": [],
   "source": [
    "prediction_nb = clf.predict(x_test)"
   ]
  },
  {
   "cell_type": "code",
   "execution_count": 49,
   "metadata": {},
   "outputs": [
    {
     "name": "stdout",
     "output_type": "stream",
     "text": [
      "              precision    recall  f1-score   support\n",
      "\n",
      "         2.0       1.00      0.15      0.26        53\n",
      "         4.0       0.38      0.07      0.12       158\n",
      "         6.0       0.32      0.04      0.07       599\n",
      "         8.0       0.43      0.19      0.27      2814\n",
      "        10.0       0.70      0.95      0.81      6475\n",
      "\n",
      "   micro avg       0.66      0.66      0.66     10099\n",
      "   macro avg       0.57      0.28      0.30     10099\n",
      "weighted avg       0.60      0.66      0.60     10099\n",
      "\n"
     ]
    }
   ],
   "source": [
    "print(classification_report(y_test, prediction_nb))"
   ]
  },
  {
   "cell_type": "markdown",
   "metadata": {},
   "source": [
    "#### The above classification report shows that Navive Bayes is able to predict all 2 star rating correctly (precision = 1) unlike Logistic regression. But as there is less percentage of 2 star compared to 10 star rating in test data, the accuracy score is only 66%"
   ]
  },
  {
   "cell_type": "markdown",
   "metadata": {},
   "source": [
    "### Implementing Random Forest"
   ]
  },
  {
   "cell_type": "code",
   "execution_count": 50,
   "metadata": {},
   "outputs": [],
   "source": [
    "from sklearn.ensemble import RandomForestClassifier\n",
    "clf = RandomForestClassifier()"
   ]
  },
  {
   "cell_type": "code",
   "execution_count": 51,
   "metadata": {},
   "outputs": [
    {
     "name": "stderr",
     "output_type": "stream",
     "text": [
      "C:\\Users\\Ajit Kumar\\Anaconda2\\lib\\site-packages\\sklearn\\ensemble\\forest.py:246: FutureWarning: The default value of n_estimators will change from 10 in version 0.20 to 100 in 0.22.\n",
      "  \"10 in version 0.20 to 100 in 0.22.\", FutureWarning)\n"
     ]
    }
   ],
   "source": [
    "clf.fit(x_train,y_train)\n",
    "pred = clf.predict(x_test)"
   ]
  },
  {
   "cell_type": "code",
   "execution_count": 52,
   "metadata": {},
   "outputs": [],
   "source": [
    "score = clf.score(x_test, y_test)"
   ]
  },
  {
   "cell_type": "code",
   "execution_count": 53,
   "metadata": {},
   "outputs": [
    {
     "name": "stdout",
     "output_type": "stream",
     "text": [
      "('Accuracy:', 0.9843548866224379)\n"
     ]
    }
   ],
   "source": [
    "print(\"Accuracy:\", score)"
   ]
  },
  {
   "cell_type": "code",
   "execution_count": 54,
   "metadata": {},
   "outputs": [
    {
     "name": "stdout",
     "output_type": "stream",
     "text": [
      "              precision    recall  f1-score   support\n",
      "\n",
      "         2.0       0.55      0.21      0.30        53\n",
      "         4.0       0.77      0.54      0.64       158\n",
      "         6.0       0.89      0.93      0.91       599\n",
      "         8.0       0.98      1.00      0.99      2814\n",
      "        10.0       1.00      1.00      1.00      6475\n",
      "\n",
      "   micro avg       0.98      0.98      0.98     10099\n",
      "   macro avg       0.84      0.74      0.77     10099\n",
      "weighted avg       0.98      0.98      0.98     10099\n",
      "\n"
     ]
    }
   ],
   "source": [
    "print(classification_report(y_test, pred))"
   ]
  },
  {
   "cell_type": "markdown",
   "metadata": {},
   "source": [
    "#### The above classification report shows that Random Forest is able to predict all 10 star rating correctly (precision = 1). It is also able to predict other ratings with good accuracy. Hence this is the better performing algorithm."
   ]
  },
  {
   "cell_type": "markdown",
   "metadata": {},
   "source": [
    "## PART 2: With Text Data"
   ]
  },
  {
   "cell_type": "code",
   "execution_count": 55,
   "metadata": {},
   "outputs": [
    {
     "data": {
      "text/html": [
       "<div>\n",
       "<style scoped>\n",
       "    .dataframe tbody tr th:only-of-type {\n",
       "        vertical-align: middle;\n",
       "    }\n",
       "\n",
       "    .dataframe tbody tr th {\n",
       "        vertical-align: top;\n",
       "    }\n",
       "\n",
       "    .dataframe thead th {\n",
       "        text-align: right;\n",
       "    }\n",
       "</style>\n",
       "<table border=\"1\" class=\"dataframe\">\n",
       "  <thead>\n",
       "    <tr style=\"text-align: right;\">\n",
       "      <th></th>\n",
       "      <th>age</th>\n",
       "      <th>height</th>\n",
       "      <th>rating</th>\n",
       "      <th>review_summary</th>\n",
       "      <th>review_text</th>\n",
       "      <th>size</th>\n",
       "      <th>weight</th>\n",
       "      <th>year</th>\n",
       "      <th>day</th>\n",
       "      <th>apple</th>\n",
       "      <th>...</th>\n",
       "      <th>large</th>\n",
       "      <th>small</th>\n",
       "      <th>date</th>\n",
       "      <th>everyday</th>\n",
       "      <th>formal affair</th>\n",
       "      <th>other</th>\n",
       "      <th>party</th>\n",
       "      <th>vacation</th>\n",
       "      <th>wedding</th>\n",
       "      <th>work</th>\n",
       "    </tr>\n",
       "  </thead>\n",
       "  <tbody>\n",
       "    <tr>\n",
       "      <th>0</th>\n",
       "      <td>36.0</td>\n",
       "      <td>5.6</td>\n",
       "      <td>10.0</td>\n",
       "      <td>'Want to buy it'</td>\n",
       "      <td>'Perfect for everyday!'</td>\n",
       "      <td>8</td>\n",
       "      <td>140.0</td>\n",
       "      <td>2016.0</td>\n",
       "      <td>10.0</td>\n",
       "      <td>0</td>\n",
       "      <td>...</td>\n",
       "      <td>0</td>\n",
       "      <td>0</td>\n",
       "      <td>0</td>\n",
       "      <td>1</td>\n",
       "      <td>0</td>\n",
       "      <td>0</td>\n",
       "      <td>0</td>\n",
       "      <td>0</td>\n",
       "      <td>0</td>\n",
       "      <td>0</td>\n",
       "    </tr>\n",
       "    <tr>\n",
       "      <th>1</th>\n",
       "      <td>37.0</td>\n",
       "      <td>5.6</td>\n",
       "      <td>10.0</td>\n",
       "      <td>'Makes a statement...tons of compliments all n...</td>\n",
       "      <td>'This dress was a last minute emergency replac...</td>\n",
       "      <td>20</td>\n",
       "      <td>128.0</td>\n",
       "      <td>2013.0</td>\n",
       "      <td>23.0</td>\n",
       "      <td>0</td>\n",
       "      <td>...</td>\n",
       "      <td>1</td>\n",
       "      <td>0</td>\n",
       "      <td>0</td>\n",
       "      <td>0</td>\n",
       "      <td>0</td>\n",
       "      <td>0</td>\n",
       "      <td>0</td>\n",
       "      <td>0</td>\n",
       "      <td>1</td>\n",
       "      <td>0</td>\n",
       "    </tr>\n",
       "    <tr>\n",
       "      <th>2</th>\n",
       "      <td>33.0</td>\n",
       "      <td>5.5</td>\n",
       "      <td>8.0</td>\n",
       "      <td>'Perfect for Black Tie optional Wedding!!'</td>\n",
       "      <td>\"The dress was a very bright blue color in per...</td>\n",
       "      <td>12</td>\n",
       "      <td>132.0</td>\n",
       "      <td>2014.0</td>\n",
       "      <td>17.0</td>\n",
       "      <td>0</td>\n",
       "      <td>...</td>\n",
       "      <td>0</td>\n",
       "      <td>0</td>\n",
       "      <td>0</td>\n",
       "      <td>0</td>\n",
       "      <td>0</td>\n",
       "      <td>0</td>\n",
       "      <td>0</td>\n",
       "      <td>0</td>\n",
       "      <td>1</td>\n",
       "      <td>0</td>\n",
       "    </tr>\n",
       "    <tr>\n",
       "      <th>4</th>\n",
       "      <td>31.0</td>\n",
       "      <td>5.3</td>\n",
       "      <td>10.0</td>\n",
       "      <td>'really great dress!'</td>\n",
       "      <td>\"i wore this for work meetings and it was perf...</td>\n",
       "      <td>12</td>\n",
       "      <td>125.0</td>\n",
       "      <td>2015.0</td>\n",
       "      <td>18.0</td>\n",
       "      <td>0</td>\n",
       "      <td>...</td>\n",
       "      <td>0</td>\n",
       "      <td>0</td>\n",
       "      <td>0</td>\n",
       "      <td>0</td>\n",
       "      <td>0</td>\n",
       "      <td>0</td>\n",
       "      <td>0</td>\n",
       "      <td>0</td>\n",
       "      <td>0</td>\n",
       "      <td>1</td>\n",
       "    </tr>\n",
       "    <tr>\n",
       "      <th>5</th>\n",
       "      <td>36.0</td>\n",
       "      <td>5.5</td>\n",
       "      <td>10.0</td>\n",
       "      <td>'looooooooooooved the full skirt to twirl arou...</td>\n",
       "      <td>\"it's pretty tight around the ribs (on me) so ...</td>\n",
       "      <td>20</td>\n",
       "      <td>150.0</td>\n",
       "      <td>2015.0</td>\n",
       "      <td>17.0</td>\n",
       "      <td>0</td>\n",
       "      <td>...</td>\n",
       "      <td>0</td>\n",
       "      <td>0</td>\n",
       "      <td>0</td>\n",
       "      <td>0</td>\n",
       "      <td>0</td>\n",
       "      <td>0</td>\n",
       "      <td>0</td>\n",
       "      <td>0</td>\n",
       "      <td>1</td>\n",
       "      <td>0</td>\n",
       "    </tr>\n",
       "  </tbody>\n",
       "</table>\n",
       "<p>5 rows × 88 columns</p>\n",
       "</div>"
      ],
      "text/plain": [
       "    age  height  rating                                     review_summary  \\\n",
       "0  36.0     5.6    10.0                                   'Want to buy it'   \n",
       "1  37.0     5.6    10.0  'Makes a statement...tons of compliments all n...   \n",
       "2  33.0     5.5     8.0         'Perfect for Black Tie optional Wedding!!'   \n",
       "4  31.0     5.3    10.0                              'really great dress!'   \n",
       "5  36.0     5.5    10.0  'looooooooooooved the full skirt to twirl arou...   \n",
       "\n",
       "                                         review_text  size  weight    year  \\\n",
       "0                            'Perfect for everyday!'     8   140.0  2016.0   \n",
       "1  'This dress was a last minute emergency replac...    20   128.0  2013.0   \n",
       "2  \"The dress was a very bright blue color in per...    12   132.0  2014.0   \n",
       "4  \"i wore this for work meetings and it was perf...    12   125.0  2015.0   \n",
       "5  \"it's pretty tight around the ribs (on me) so ...    20   150.0  2015.0   \n",
       "\n",
       "    day  apple  ...  large  small  date  everyday  formal affair  other  \\\n",
       "0  10.0      0  ...      0      0     0         1              0      0   \n",
       "1  23.0      0  ...      1      0     0         0              0      0   \n",
       "2  17.0      0  ...      0      0     0         0              0      0   \n",
       "4  18.0      0  ...      0      0     0         0              0      0   \n",
       "5  17.0      0  ...      0      0     0         0              0      0   \n",
       "\n",
       "   party  vacation  wedding  work  \n",
       "0      0         0        0     0  \n",
       "1      0         0        1     0  \n",
       "2      0         0        1     0  \n",
       "4      0         0        0     1  \n",
       "5      0         0        1     0  \n",
       "\n",
       "[5 rows x 88 columns]"
      ]
     },
     "execution_count": 55,
     "metadata": {},
     "output_type": "execute_result"
    }
   ],
   "source": [
    "reviews.head()"
   ]
  },
  {
   "cell_type": "code",
   "execution_count": 56,
   "metadata": {},
   "outputs": [],
   "source": [
    "sentences_train, sentences_test, y_train, y_test = train_test_split(reviews['review_text'], reviews['rating'], test_size=0.25, random_state=101)"
   ]
  },
  {
   "cell_type": "code",
   "execution_count": 57,
   "metadata": {},
   "outputs": [],
   "source": [
    "vectorizer = CountVectorizer(ngram_range=(2,3), max_features= 15000)\n",
    "vectorizer.fit(sentences_train)\n",
    "\n",
    "x_train = vectorizer.transform(sentences_train)\n",
    "x_test  = vectorizer.transform(sentences_test)"
   ]
  },
  {
   "cell_type": "markdown",
   "metadata": {},
   "source": [
    "#### Transforming textual data into multiple numeric columns (max - 15000) by using count vectorizer.  "
   ]
  },
  {
   "cell_type": "markdown",
   "metadata": {},
   "source": [
    "### Implementing Logistic Regression"
   ]
  },
  {
   "cell_type": "code",
   "execution_count": 58,
   "metadata": {},
   "outputs": [],
   "source": [
    "classifier = LogisticRegression()\n",
    "classifier.fit(x_train, y_train)\n",
    "score = classifier.score(x_test, y_test)"
   ]
  },
  {
   "cell_type": "code",
   "execution_count": 59,
   "metadata": {},
   "outputs": [
    {
     "name": "stdout",
     "output_type": "stream",
     "text": [
      "('Accuracy:', 0.6601643727101694)\n"
     ]
    }
   ],
   "source": [
    "print(\"Accuracy:\", score)"
   ]
  },
  {
   "cell_type": "code",
   "execution_count": 60,
   "metadata": {},
   "outputs": [],
   "source": [
    "# Creating the Confusion Matrix\n",
    "from sklearn.metrics import confusion_matrix, classification_report"
   ]
  },
  {
   "cell_type": "code",
   "execution_count": 61,
   "metadata": {},
   "outputs": [
    {
     "name": "stdout",
     "output_type": "stream",
     "text": [
      "              precision    recall  f1-score   support\n",
      "\n",
      "         2.0       0.40      0.04      0.07        53\n",
      "         4.0       0.26      0.06      0.10       158\n",
      "         6.0       0.35      0.21      0.26       599\n",
      "         8.0       0.45      0.40      0.42      2814\n",
      "        10.0       0.75      0.84      0.79      6475\n",
      "\n",
      "   micro avg       0.66      0.66      0.66     10099\n",
      "   macro avg       0.44      0.31      0.33     10099\n",
      "weighted avg       0.63      0.66      0.64     10099\n",
      "\n"
     ]
    }
   ],
   "source": [
    "predictions = classifier.predict(x_test)\n",
    "print(classification_report(y_test, predictions))"
   ]
  },
  {
   "cell_type": "markdown",
   "metadata": {},
   "source": [
    "### Implementing Navive Bayes"
   ]
  },
  {
   "cell_type": "code",
   "execution_count": 62,
   "metadata": {},
   "outputs": [],
   "source": [
    "from sklearn.naive_bayes import MultinomialNB\n",
    "clf = MultinomialNB().fit(x_train, y_train)"
   ]
  },
  {
   "cell_type": "code",
   "execution_count": 63,
   "metadata": {},
   "outputs": [
    {
     "name": "stdout",
     "output_type": "stream",
     "text": [
      "('Accuracy:', 0.6605604515298544)\n"
     ]
    }
   ],
   "source": [
    "score = clf.score(x_test, y_test)\n",
    "print(\"Accuracy:\", score)"
   ]
  },
  {
   "cell_type": "code",
   "execution_count": 64,
   "metadata": {},
   "outputs": [
    {
     "name": "stdout",
     "output_type": "stream",
     "text": [
      "              precision    recall  f1-score   support\n",
      "\n",
      "         2.0       0.00      0.00      0.00        53\n",
      "         4.0       0.15      0.09      0.11       158\n",
      "         6.0       0.30      0.52      0.38       599\n",
      "         8.0       0.48      0.50      0.49      2814\n",
      "        10.0       0.82      0.76      0.79      6475\n",
      "\n",
      "   micro avg       0.66      0.66      0.66     10099\n",
      "   macro avg       0.35      0.37      0.35     10099\n",
      "weighted avg       0.68      0.66      0.67     10099\n",
      "\n"
     ]
    }
   ],
   "source": [
    "predictions = clf.predict(x_test)\n",
    "print(classification_report(y_test, predictions))"
   ]
  },
  {
   "cell_type": "markdown",
   "metadata": {},
   "source": [
    "### Implementing Random Forest"
   ]
  },
  {
   "cell_type": "code",
   "execution_count": 65,
   "metadata": {},
   "outputs": [],
   "source": [
    "from sklearn.ensemble import RandomForestClassifier\n",
    "clf = RandomForestClassifier()"
   ]
  },
  {
   "cell_type": "code",
   "execution_count": 66,
   "metadata": {},
   "outputs": [],
   "source": [
    "clf.fit(x_train,y_train)\n",
    "pred = clf.predict(x_test)"
   ]
  },
  {
   "cell_type": "code",
   "execution_count": 67,
   "metadata": {},
   "outputs": [
    {
     "name": "stdout",
     "output_type": "stream",
     "text": [
      "('Accuracy:', 0.6441231805129221)\n"
     ]
    }
   ],
   "source": [
    "score = clf.score(x_test, y_test)\n",
    "print(\"Accuracy:\", score)"
   ]
  },
  {
   "cell_type": "code",
   "execution_count": 68,
   "metadata": {},
   "outputs": [
    {
     "name": "stdout",
     "output_type": "stream",
     "text": [
      "              precision    recall  f1-score   support\n",
      "\n",
      "         2.0       0.00      0.00      0.00        53\n",
      "         4.0       0.00      0.00      0.00       158\n",
      "         6.0       0.26      0.05      0.09       599\n",
      "         8.0       0.43      0.33      0.37      2814\n",
      "        10.0       0.71      0.86      0.78      6475\n",
      "\n",
      "   micro avg       0.64      0.64      0.64     10099\n",
      "   macro avg       0.28      0.25      0.25     10099\n",
      "weighted avg       0.59      0.64      0.61     10099\n",
      "\n"
     ]
    }
   ],
   "source": [
    "predictions = clf.predict(x_test)\n",
    "print(classification_report(y_test, predictions))"
   ]
  },
  {
   "cell_type": "markdown",
   "metadata": {},
   "source": [
    "### CONCLUSION:\n",
    "#### For Review Text data, Logistic and Naive Bayes outperforms Random Forest. While for non-textual data, Random forest performs other algorithms.\n",
    "#### Future scope - Ensemble methods can be used to improve accuracy."
   ]
  },
  {
   "cell_type": "code",
   "execution_count": null,
   "metadata": {},
   "outputs": [],
   "source": []
  }
 ],
 "metadata": {
  "kernelspec": {
   "display_name": "Python 2",
   "language": "python",
   "name": "python2"
  },
  "language_info": {
   "codemirror_mode": {
    "name": "ipython",
    "version": 2
   },
   "file_extension": ".py",
   "mimetype": "text/x-python",
   "name": "python",
   "nbconvert_exporter": "python",
   "pygments_lexer": "ipython2",
   "version": "2.7.16"
  }
 },
 "nbformat": 4,
 "nbformat_minor": 2
}
